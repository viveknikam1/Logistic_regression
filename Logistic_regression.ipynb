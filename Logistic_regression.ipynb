{
 "cells": [
  {
   "cell_type": "code",
   "execution_count": 1,
   "metadata": {},
   "outputs": [],
   "source": [
    "import pandas as pd"
   ]
  },
  {
   "cell_type": "code",
   "execution_count": 2,
   "metadata": {},
   "outputs": [],
   "source": [
    "df = pd.read_csv('Social_Net_class.csv')"
   ]
  },
  {
   "cell_type": "code",
   "execution_count": 3,
   "metadata": {},
   "outputs": [
    {
     "data": {
      "text/plain": [
       "Index(['User ID', 'Gender', 'Age', 'EstimatedSalary', 'Purchased'], dtype='object')"
      ]
     },
     "execution_count": 3,
     "metadata": {},
     "output_type": "execute_result"
    }
   ],
   "source": [
    "df.columns"
   ]
  },
  {
   "cell_type": "code",
   "execution_count": 4,
   "metadata": {},
   "outputs": [],
   "source": [
    "X = df.iloc[  :  ,  [2,3]].values"
   ]
  },
  {
   "cell_type": "code",
   "execution_count": 5,
   "metadata": {},
   "outputs": [],
   "source": [
    "Y = df.iloc[   : , -1].values"
   ]
  },
  {
   "cell_type": "code",
   "execution_count": 6,
   "metadata": {},
   "outputs": [
    {
     "name": "stderr",
     "output_type": "stream",
     "text": [
      "C:\\Users\\Vivek Nikam\\Anaconda3\\lib\\site-packages\\sklearn\\cross_validation.py:41: DeprecationWarning: This module was deprecated in version 0.18 in favor of the model_selection module into which all the refactored classes and functions are moved. Also note that the interface of the new CV iterators are different from that of this module. This module will be removed in 0.20.\n",
      "  \"This module will be removed in 0.20.\", DeprecationWarning)\n"
     ]
    }
   ],
   "source": [
    "#from sklearn.model_selection import train_test_split\n",
    "from sklearn.cross_validation import train_test_split"
   ]
  },
  {
   "cell_type": "code",
   "execution_count": 7,
   "metadata": {},
   "outputs": [],
   "source": [
    "X_train, X_test, Y_train, Y_test = train_test_split(X,Y,test_size=0.3)"
   ]
  },
  {
   "cell_type": "code",
   "execution_count": 8,
   "metadata": {},
   "outputs": [],
   "source": [
    "from sklearn.preprocessing import StandardScaler"
   ]
  },
  {
   "cell_type": "code",
   "execution_count": 9,
   "metadata": {},
   "outputs": [],
   "source": [
    "SS = StandardScaler()"
   ]
  },
  {
   "cell_type": "code",
   "execution_count": 10,
   "metadata": {},
   "outputs": [
    {
     "name": "stderr",
     "output_type": "stream",
     "text": [
      "C:\\Users\\Vivek Nikam\\Anaconda3\\lib\\site-packages\\sklearn\\utils\\validation.py:475: DataConversionWarning: Data with input dtype int64 was converted to float64 by StandardScaler.\n",
      "  warnings.warn(msg, DataConversionWarning)\n"
     ]
    }
   ],
   "source": [
    "X_train = SS.fit_transform(X_train)\n",
    "X_test = SS.transform(X_test)"
   ]
  },
  {
   "cell_type": "code",
   "execution_count": 11,
   "metadata": {},
   "outputs": [
    {
     "data": {
      "text/plain": [
       "array([[ 2.15212706, -0.83903084],\n",
       "       [-0.22741636,  0.28721424],\n",
       "       [ 2.05694532,  0.19589707],\n",
       "       [-0.22741636,  0.56116574],\n",
       "       [ 0.15331058,  0.04370179],\n",
       "       [-0.98887026, -1.50869007],\n",
       "       [-1.46477894, -1.56956818],\n",
       "       [-0.22741636,  0.1045799 ],\n",
       "       [-0.03705289,  0.28721424],\n",
       "       [-1.27441547,  0.43940952],\n",
       "       [-0.03705289,  0.31765329],\n",
       "       [ 1.86658185, -0.29112783],\n",
       "       [-0.22741636,  0.22633612],\n",
       "       [ 0.43885579,  0.31765329],\n",
       "       [-0.22741636,  0.65248291],\n",
       "       [-1.75032416,  0.46984857],\n",
       "       [ 1.96176359, -0.68683556],\n",
       "       [-0.22741636, -0.32156688],\n",
       "       [-0.03705289, -0.23024972],\n",
       "       [-0.41777984, -1.26517762],\n",
       "       [ 0.34367406, -0.74771367],\n",
       "       [-0.03705289,  0.16545801],\n",
       "       [ 0.15331058,  0.16545801],\n",
       "       [ 0.91476448, -1.20429951],\n",
       "       [-0.22741636,  0.16545801],\n",
       "       [-0.03705289,  0.71336102],\n",
       "       [ 1.00994622,  0.62204385],\n",
       "       [-1.84550589, -0.53464028],\n",
       "       [ 0.05812885, -0.59551839],\n",
       "       [-0.79850679,  2.3875091 ],\n",
       "       [ 0.724401  ,  1.87004515],\n",
       "       [ 0.43885579, -0.47376216],\n",
       "       [-0.79850679, -1.26517762],\n",
       "       [ 0.91476448, -0.56507933],\n",
       "       [ 1.20030969, -1.50869007],\n",
       "       [-0.60814331,  1.47433742],\n",
       "       [-1.46477894,  0.34809235],\n",
       "       [-0.13223463, -0.53464028],\n",
       "       [-0.22741636,  0.07414084],\n",
       "       [-1.65514242,  0.3785314 ],\n",
       "       [ 0.724401  , -1.32605573],\n",
       "       [-0.03705289, -0.53464028],\n",
       "       [-0.13223463,  1.47433742],\n",
       "       [-0.22741636,  1.16994686],\n",
       "       [-1.084052  , -1.20429951],\n",
       "       [-0.41777984, -0.86946989],\n",
       "       [-1.84550589, -0.04761538],\n",
       "       [ 0.81958274, -1.4173729 ],\n",
       "       [ 0.43885579, -0.47376216],\n",
       "       [-1.084052  , -1.66088535],\n",
       "       [-0.89368852, -0.77815273],\n",
       "       [-0.22741636, -0.35200594],\n",
       "       [ 1.86658185, -1.32605573],\n",
       "       [-0.51296158, -1.56956818],\n",
       "       [-0.41777984, -0.01717632],\n",
       "       [-0.98887026, -0.35200594],\n",
       "       [-0.60814331, -0.04761538],\n",
       "       [ 0.62921927, -0.93034801],\n",
       "       [-0.03705289,  2.32663099],\n",
       "       [-1.36959721, -1.26517762],\n",
       "       [ 2.05694532, -0.83903084],\n",
       "       [-0.51296158,  2.44838721],\n",
       "       [ 1.00994622,  2.17443571],\n",
       "       [ 0.91476448,  1.32214214],\n",
       "       [-1.65514242, -1.4173729 ],\n",
       "       [ 0.24849232,  0.16545801],\n",
       "       [ 0.05812885, -0.26068877],\n",
       "       [ 0.91476448,  1.1395078 ],\n",
       "       [-0.22741636,  2.35707005],\n",
       "       [-1.084052  , -0.53464028],\n",
       "       [ 2.05694532,  2.23531382],\n",
       "       [ 0.34367406, -0.32156688],\n",
       "       [-1.84550589,  0.50028763],\n",
       "       [-0.89368852,  0.53072668],\n",
       "       [ 0.34367406,  0.07414084],\n",
       "       [ 0.91476448, -1.08254329],\n",
       "       [-0.70332505,  1.1395078 ],\n",
       "       [-1.65514242,  0.13501896],\n",
       "       [ 1.00994622, -1.20429951],\n",
       "       [-0.03705289,  2.26575288],\n",
       "       [-0.22741636, -0.77815273],\n",
       "       [ 1.29549143,  2.32663099],\n",
       "       [-1.084052  ,  0.31765329],\n",
       "       [-0.3225981 ,  1.29170308],\n",
       "       [-1.36959721, -1.50869007],\n",
       "       [ 0.24849232, -0.382445  ],\n",
       "       [ 0.05812885, -0.59551839],\n",
       "       [-1.36959721, -0.6563965 ],\n",
       "       [-1.75032416, -1.32605573],\n",
       "       [-1.084052  , -1.60000724],\n",
       "       [ 2.05694532,  0.40897046],\n",
       "       [ 1.86658185, -1.11298234],\n",
       "       [ 0.91476448, -1.35649479],\n",
       "       [-0.60814331, -1.66088535],\n",
       "       [-0.51296158,  1.44389836],\n",
       "       [-1.084052  , -1.63044629],\n",
       "       [ 1.10512795, -1.26517762],\n",
       "       [-0.79850679, -0.26068877],\n",
       "       [ 0.24849232,  0.07414084],\n",
       "       [ 0.724401  , -0.74771367],\n",
       "       [-0.22741636, -0.59551839],\n",
       "       [ 0.24849232,  0.25677518],\n",
       "       [-0.03705289,  2.05267949],\n",
       "       [ 0.43885579, -0.13893255],\n",
       "       [ 1.4858549 ,  1.04819064],\n",
       "       [ 0.24849232, -0.13893255],\n",
       "       [-1.55996068, -0.04761538],\n",
       "       [ 0.43885579,  0.62204385],\n",
       "       [-1.75032416,  0.01326273],\n",
       "       [-0.70332505,  0.31765329],\n",
       "       [ 0.34367406,  0.04370179],\n",
       "       [-0.41777984, -0.29112783],\n",
       "       [-0.03705289, -1.11298234],\n",
       "       [ 0.81958274,  0.80467819],\n",
       "       [ 1.10512795,  0.50028763],\n",
       "       [-1.17923373,  0.31765329],\n",
       "       [ 1.00994622, -1.11298234],\n",
       "       [-1.36959721, -0.10849349],\n",
       "       [-0.51296158,  1.99180137],\n",
       "       [-1.17923373,  0.28721424],\n",
       "       [ 0.91476448, -0.80859178],\n",
       "       [ 1.86658185,  1.59609365],\n",
       "       [-0.51296158,  0.50028763],\n",
       "       [-0.22741636, -0.13893255],\n",
       "       [ 0.43885579,  1.04819064],\n",
       "       [ 0.34367406,  0.07414084],\n",
       "       [ 0.34367406,  0.07414084],\n",
       "       [ 0.43885579, -0.1693716 ],\n",
       "       [-0.13223463,  2.26575288],\n",
       "       [-1.84550589, -0.77815273],\n",
       "       [-0.22741636,  0.07414084],\n",
       "       [-1.084052  , -1.66088535],\n",
       "       [-1.27441547, -1.4173729 ],\n",
       "       [ 1.39067316, -1.47825101],\n",
       "       [-0.22741636, -0.96078706],\n",
       "       [-1.75032416, -1.35649479],\n",
       "       [ 0.05812885, -0.26068877],\n",
       "       [ 0.24849232, -0.68683556],\n",
       "       [-0.98887026,  0.56116574],\n",
       "       [ 0.53403753,  1.29170308],\n",
       "       [ 0.81958274, -0.86946989],\n",
       "       [-0.03705289,  0.13501896],\n",
       "       [-0.98887026, -0.382445  ],\n",
       "       [-0.03705289,  0.01326273],\n",
       "       [ 1.00994622,  1.50477648],\n",
       "       [ 0.05812885,  0.04370179],\n",
       "       [-0.22741636, -0.26068877],\n",
       "       [-0.98887026, -1.60000724],\n",
       "       [-0.60814331,  0.5916048 ],\n",
       "       [ 2.05694532,  0.56116574],\n",
       "       [ 1.58103664,  1.04819064],\n",
       "       [-1.27441547, -1.53912913],\n",
       "       [ 0.34367406, -0.19981066],\n",
       "       [-0.70332505,  0.53072668],\n",
       "       [ 1.10512795,  0.13501896],\n",
       "       [-0.22741636, -0.50420122],\n",
       "       [-0.89368852,  0.46984857],\n",
       "       [-0.3225981 , -0.80859178],\n",
       "       [ 0.05812885,  0.31765329],\n",
       "       [ 1.39067316, -0.96078706],\n",
       "       [-0.89368852,  0.5916048 ],\n",
       "       [ 1.39067316,  0.62204385],\n",
       "       [-1.27441547, -0.35200594],\n",
       "       [-1.55996068,  0.07414084],\n",
       "       [ 1.39067316,  2.08311854],\n",
       "       [ 1.58103664,  0.01326273],\n",
       "       [-0.60814331, -0.35200594],\n",
       "       [-0.79850679,  0.40897046],\n",
       "       [-0.03705289, -0.50420122],\n",
       "       [-0.89368852, -0.99122612],\n",
       "       [-1.084052  ,  1.47433742],\n",
       "       [ 0.24849232,  0.04370179],\n",
       "       [ 0.43885579,  1.16994686],\n",
       "       [-0.51296158, -1.56956818],\n",
       "       [ 1.29549143, -1.4173729 ],\n",
       "       [-0.13223463,  0.16545801],\n",
       "       [-0.3225981 ,  1.38302025],\n",
       "       [ 1.00994622, -0.86946989],\n",
       "       [ 0.24849232, -0.382445  ],\n",
       "       [ 0.81958274,  1.44389836],\n",
       "       [-1.084052  ,  0.31765329],\n",
       "       [ 1.4858549 ,  0.3785314 ],\n",
       "       [-0.98887026, -0.35200594],\n",
       "       [ 0.15331058, -0.32156688],\n",
       "       [ 2.15212706, -1.08254329],\n",
       "       [ 0.91476448, -0.62595745],\n",
       "       [ 0.91476448, -1.4173729 ],\n",
       "       [-0.79850679, -0.68683556],\n",
       "       [ 0.05812885,  1.29170308],\n",
       "       [-0.98887026,  0.62204385],\n",
       "       [ 0.24849232, -0.26068877],\n",
       "       [-0.70332505, -0.62595745],\n",
       "       [ 1.20030969,  0.56116574],\n",
       "       [-0.41777984,  2.41794816],\n",
       "       [-0.13223463, -0.19981066],\n",
       "       [-1.46477894, -0.19981066],\n",
       "       [-0.22741636, -0.382445  ],\n",
       "       [ 0.15331058,  0.04370179],\n",
       "       [-1.65514242, -0.62595745],\n",
       "       [ 0.34367406,  0.07414084],\n",
       "       [-0.22741636, -0.68683556],\n",
       "       [-1.55996068,  0.56116574],\n",
       "       [-0.79850679, -0.80859178],\n",
       "       [ 0.15331058,  1.10906875],\n",
       "       [ 1.10512795,  0.5916048 ],\n",
       "       [-1.65514242, -1.02166517],\n",
       "       [-1.17923373, -1.11298234],\n",
       "       [ 0.24849232,  1.1395078 ],\n",
       "       [ 0.81958274,  0.13501896],\n",
       "       [ 1.96176359,  0.95687347],\n",
       "       [ 0.34367406,  0.53072668],\n",
       "       [ 0.34367406, -0.56507933],\n",
       "       [-0.3225981 ,  0.07414084],\n",
       "       [-0.41777984, -1.17386045],\n",
       "       [-1.65514242,  0.50028763],\n",
       "       [ 1.00994622,  1.96136232],\n",
       "       [-1.084052  , -0.80859178],\n",
       "       [-0.79850679,  0.31765329],\n",
       "       [-1.55996068, -1.63044629],\n",
       "       [ 2.15212706,  0.98731252],\n",
       "       [ 0.81958274, -1.26517762],\n",
       "       [-0.22741636, -1.35649479],\n",
       "       [-1.17923373,  0.53072668],\n",
       "       [-0.89368852,  0.28721424],\n",
       "       [ 0.81958274,  0.56116574],\n",
       "       [ 1.10512795, -0.13893255],\n",
       "       [ 1.10512795,  2.17443571],\n",
       "       [ 0.05812885, -0.56507933],\n",
       "       [-0.60814331, -1.08254329],\n",
       "       [-0.41777984, -0.80859178],\n",
       "       [-0.13223463, -0.47376216],\n",
       "       [-0.70332505,  1.41345931],\n",
       "       [ 0.24849232,  0.16545801],\n",
       "       [ 0.05812885,  1.32214214],\n",
       "       [ 2.15212706,  0.40897046],\n",
       "       [ 1.00994622,  0.80467819],\n",
       "       [-0.70332505,  0.5916048 ],\n",
       "       [ 1.10512795, -1.02166517],\n",
       "       [-0.60814331,  0.19589707],\n",
       "       [-0.13223463, -1.11298234],\n",
       "       [ 0.15331058,  0.80467819],\n",
       "       [ 1.58103664, -1.32605573],\n",
       "       [ 0.724401  , -1.44781196],\n",
       "       [ 0.15331058, -0.83903084],\n",
       "       [ 0.05812885, -0.44332311],\n",
       "       [-0.98887026,  0.5916048 ],\n",
       "       [-1.65514242,  0.3785314 ],\n",
       "       [ 1.00994622, -1.11298234],\n",
       "       [-0.79850679,  0.16545801],\n",
       "       [-0.89368852,  0.43940952],\n",
       "       [-1.36959721,  0.3785314 ],\n",
       "       [-0.70332505, -1.60000724],\n",
       "       [ 0.24849232, -0.32156688],\n",
       "       [ 0.81958274, -1.44781196],\n",
       "       [-0.03705289,  0.04370179],\n",
       "       [-0.22741636,  0.83511724],\n",
       "       [ 0.81958274, -1.1434214 ],\n",
       "       [ 0.34367406,  0.31765329],\n",
       "       [ 1.00994622, -1.23473857],\n",
       "       [ 0.15331058,  0.28721424],\n",
       "       [-1.084052  ,  0.07414084],\n",
       "       [ 0.91476448,  1.07862969],\n",
       "       [-0.79850679,  0.40897046],\n",
       "       [ 0.81958274, -0.32156688],\n",
       "       [ 0.53403753,  1.80916704],\n",
       "       [ 0.43885579,  0.01326273],\n",
       "       [ 1.96176359,  2.26575288],\n",
       "       [ 1.77140011, -0.29112783],\n",
       "       [ 1.39067316,  1.3525812 ],\n",
       "       [-1.17923373,  0.62204385],\n",
       "       [-0.98887026,  0.43940952],\n",
       "       [-1.36959721, -0.19981066],\n",
       "       [-0.98887026, -0.47376216],\n",
       "       [ 1.4858549 ,  0.07414084],\n",
       "       [ 1.96176359,  0.77423913],\n",
       "       [ 1.77140011,  1.04819064],\n",
       "       [-0.22741636, -1.4173729 ],\n",
       "       [ 1.29549143,  1.96136232],\n",
       "       [ 0.724401  ,  0.28721424],\n",
       "       [ 1.00994622,  2.08311854]])"
      ]
     },
     "execution_count": 11,
     "metadata": {},
     "output_type": "execute_result"
    }
   ],
   "source": [
    "X_train"
   ]
  },
  {
   "cell_type": "code",
   "execution_count": 12,
   "metadata": {},
   "outputs": [],
   "source": [
    "from sklearn.linear_model import LogisticRegression"
   ]
  },
  {
   "cell_type": "code",
   "execution_count": 13,
   "metadata": {},
   "outputs": [],
   "source": [
    "LR = LogisticRegression()"
   ]
  },
  {
   "cell_type": "code",
   "execution_count": 14,
   "metadata": {},
   "outputs": [
    {
     "data": {
      "text/plain": [
       "LogisticRegression(C=1.0, class_weight=None, dual=False, fit_intercept=True,\n",
       "          intercept_scaling=1, max_iter=100, multi_class='ovr', n_jobs=1,\n",
       "          penalty='l2', random_state=None, solver='liblinear', tol=0.0001,\n",
       "          verbose=0, warm_start=False)"
      ]
     },
     "execution_count": 14,
     "metadata": {},
     "output_type": "execute_result"
    }
   ],
   "source": [
    "LR.fit(X_train,Y_train)"
   ]
  },
  {
   "cell_type": "code",
   "execution_count": 15,
   "metadata": {},
   "outputs": [],
   "source": [
    "Y_predict = LR.predict(X_test)"
   ]
  },
  {
   "cell_type": "code",
   "execution_count": 16,
   "metadata": {},
   "outputs": [
    {
     "data": {
      "text/plain": [
       "(array([0, 1, 0, 0, 0, 0, 1, 1, 0, 0, 1, 0, 1, 0, 1, 0, 1, 0, 0, 0, 1, 0,\n",
       "        0, 1, 1, 1, 1, 0, 0, 1, 1, 0, 1, 0, 0, 0, 0, 1, 0, 0, 0, 1, 0, 1,\n",
       "        0, 1, 1, 1, 1, 0, 0, 0, 0, 0, 0, 0, 0, 0, 1, 0, 0, 0, 1, 0, 0, 0,\n",
       "        0, 1, 0, 0, 0, 0, 1, 0, 1, 1, 0, 0, 0, 0, 0, 0, 1, 1, 0, 0, 1, 1,\n",
       "        0, 1, 1, 0, 0, 0, 0, 0, 0, 1, 0, 1, 0, 0, 0, 0, 0, 1, 0, 1, 0, 1,\n",
       "        1, 0, 0, 0, 0, 0, 0, 0, 0, 0], dtype=int64),\n",
       " array([0, 1, 0, 1, 0, 1, 0, 1, 0, 0, 1, 1, 1, 0, 1, 0, 1, 1, 0, 0, 1, 0,\n",
       "        0, 1, 1, 1, 1, 0, 0, 0, 1, 0, 1, 1, 0, 0, 0, 0, 1, 0, 0, 1, 0, 1,\n",
       "        0, 1, 1, 1, 1, 0, 0, 0, 0, 0, 0, 0, 0, 0, 1, 0, 0, 0, 1, 0, 0, 0,\n",
       "        0, 1, 0, 0, 0, 0, 1, 0, 1, 1, 1, 1, 0, 0, 0, 0, 0, 1, 1, 0, 1, 0,\n",
       "        0, 1, 1, 0, 0, 0, 0, 0, 0, 1, 1, 1, 0, 0, 1, 0, 0, 1, 0, 1, 0, 1,\n",
       "        1, 1, 0, 0, 0, 1, 0, 0, 0, 0], dtype=int64))"
      ]
     },
     "execution_count": 16,
     "metadata": {},
     "output_type": "execute_result"
    }
   ],
   "source": [
    "Y_predict,Y_test"
   ]
  },
  {
   "cell_type": "code",
   "execution_count": 17,
   "metadata": {},
   "outputs": [
    {
     "data": {
      "text/plain": [
       "0.85"
      ]
     },
     "execution_count": 17,
     "metadata": {},
     "output_type": "execute_result"
    }
   ],
   "source": [
    "LR.score(X_test,Y_test)"
   ]
  },
  {
   "cell_type": "code",
   "execution_count": 18,
   "metadata": {},
   "outputs": [],
   "source": [
    "from sklearn.metrics import confusion_matrix"
   ]
  },
  {
   "cell_type": "code",
   "execution_count": 19,
   "metadata": {},
   "outputs": [],
   "source": [
    "cm = confusion_matrix(Y_test,Y_predict)"
   ]
  },
  {
   "cell_type": "code",
   "execution_count": 20,
   "metadata": {},
   "outputs": [
    {
     "data": {
      "text/plain": [
       "array([[67,  5],\n",
       "       [13, 35]], dtype=int64)"
      ]
     },
     "execution_count": 20,
     "metadata": {},
     "output_type": "execute_result"
    }
   ],
   "source": [
    "cm"
   ]
  },
  {
   "cell_type": "code",
   "execution_count": 21,
   "metadata": {},
   "outputs": [],
   "source": [
    "import matplotlib.pyplot as plt\n",
    "%matplotlib inline"
   ]
  },
  {
   "cell_type": "code",
   "execution_count": 31,
   "metadata": {},
   "outputs": [
    {
     "data": {
      "text/plain": [
       "<matplotlib.legend.Legend at 0x26977022780>"
      ]
     },
     "execution_count": 31,
     "metadata": {},
     "output_type": "execute_result"
    },
    {
     "data": {
      "image/png": "[encoded data removed]",
      "text/plain": [
       "<Figure size 432x288 with 1 Axes>"
      ]
     },
     "metadata": {
      "needs_background": "light"
     },
     "output_type": "display_data"
    }
   ],
   "source": [
    "plt.scatter(X_test[Y_predict==0,0],X_test[Y_predict==0,1],c='red',label='Not Purchased')\n",
    "plt.scatter(X_test[Y_predict==1,0],X_test[Y_predict==1,1],c='blue',label='Purchased')\n",
    "plt.xlabel('Age')\n",
    "plt.ylabel('Estimated Salary')\n",
    "plt.title('Logistic Regression')\n",
    "plt.legend()"
   ]
  },
  {
   "cell_type": "code",
   "execution_count": null,
   "metadata": {},
   "outputs": [],
   "source": []
  }
 ],
 "metadata": {
  "kernelspec": {
   "display_name": "Python 3",
   "language": "python",
   "name": "python3"
  },
  "language_info": {
   "codemirror_mode": {
    "name": "ipython",
    "version": 3
   },
   "file_extension": ".py",
   "mimetype": "text/x-python",
   "name": "python",
   "nbconvert_exporter": "python",
   "pygments_lexer": "ipython3",
   "version": "3.7.0"
  }
 },
 "nbformat": 4,
 "nbformat_minor": 2
}
